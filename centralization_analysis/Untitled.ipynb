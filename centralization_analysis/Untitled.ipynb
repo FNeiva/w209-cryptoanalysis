{
 "cells": [
  {
   "cell_type": "code",
   "execution_count": 179,
   "metadata": {},
   "outputs": [],
   "source": [
    "import pandas as pd\n",
    "import numpy as np\n",
    "import datetime"
   ]
  },
  {
   "cell_type": "code",
   "execution_count": 3,
   "metadata": {},
   "outputs": [
    {
     "data": {
      "text/html": [
       "<div>\n",
       "<style>\n",
       "    .dataframe thead tr:only-child th {\n",
       "        text-align: right;\n",
       "    }\n",
       "\n",
       "    .dataframe thead th {\n",
       "        text-align: left;\n",
       "    }\n",
       "\n",
       "    .dataframe tbody tr th {\n",
       "        vertical-align: top;\n",
       "    }\n",
       "</style>\n",
       "<table border=\"1\" class=\"dataframe\">\n",
       "  <thead>\n",
       "    <tr style=\"text-align: right;\">\n",
       "      <th></th>\n",
       "      <th>Planktons</th>\n",
       "      <th>Clownfishes</th>\n",
       "      <th>Lionfisshes</th>\n",
       "      <th>Swordfishes</th>\n",
       "      <th>Sharks</th>\n",
       "      <th>Whales</th>\n",
       "    </tr>\n",
       "  </thead>\n",
       "  <tbody>\n",
       "    <tr>\n",
       "      <th>0</th>\n",
       "      <td>1.417409</td>\n",
       "      <td>1.892186</td>\n",
       "      <td>2.627976</td>\n",
       "      <td>8.03492</td>\n",
       "      <td>37.944899</td>\n",
       "      <td>127.969749</td>\n",
       "    </tr>\n",
       "  </tbody>\n",
       "</table>\n",
       "</div>"
      ],
      "text/plain": [
       "   Planktons  Clownfishes  Lionfisshes  Swordfishes     Sharks      Whales\n",
       "0   1.417409     1.892186     2.627976      8.03492  37.944899  127.969749"
      ]
     },
     "execution_count": 3,
     "metadata": {},
     "output_type": "execute_result"
    }
   ],
   "source": [
    "df_acc_bins = pd.read_csv('avg_accounts_per_bin.csv')\n",
    "df_acc_bins.columns = [\"Planktons\", \"Clownfishes\", \"Lionfisshes\", \"Swordfishes\", \"Sharks\", \"Whales\"]\n",
    "df_acc_bins"
   ]
  },
  {
   "cell_type": "code",
   "execution_count": 213,
   "metadata": {},
   "outputs": [
    {
     "data": {
      "text/html": [
       "<div>\n",
       "<style>\n",
       "    .dataframe thead tr:only-child th {\n",
       "        text-align: right;\n",
       "    }\n",
       "\n",
       "    .dataframe thead th {\n",
       "        text-align: left;\n",
       "    }\n",
       "\n",
       "    .dataframe tbody tr th {\n",
       "        vertical-align: top;\n",
       "    }\n",
       "</style>\n",
       "<table border=\"1\" class=\"dataframe\">\n",
       "  <thead>\n",
       "    <tr style=\"text-align: right;\">\n",
       "      <th></th>\n",
       "      <th>Month</th>\n",
       "      <th>Planktons</th>\n",
       "      <th>Clownfishes</th>\n",
       "      <th>Lionfishes</th>\n",
       "      <th>Swordfishes</th>\n",
       "      <th>Sharks</th>\n",
       "      <th>Whales</th>\n",
       "    </tr>\n",
       "  </thead>\n",
       "  <tbody>\n",
       "    <tr>\n",
       "      <th>63</th>\n",
       "      <td>2009-01-06</td>\n",
       "      <td>1.980004</td>\n",
       "      <td>0.0</td>\n",
       "      <td>98.019996</td>\n",
       "      <td>0.000000</td>\n",
       "      <td>0.0</td>\n",
       "      <td>0.0</td>\n",
       "    </tr>\n",
       "    <tr>\n",
       "      <th>62</th>\n",
       "      <td>2009-10-03</td>\n",
       "      <td>0.000000</td>\n",
       "      <td>0.0</td>\n",
       "      <td>0.000000</td>\n",
       "      <td>100.000000</td>\n",
       "      <td>0.0</td>\n",
       "      <td>0.0</td>\n",
       "    </tr>\n",
       "    <tr>\n",
       "      <th>61</th>\n",
       "      <td>2009-11-02</td>\n",
       "      <td>0.000000</td>\n",
       "      <td>0.0</td>\n",
       "      <td>100.000000</td>\n",
       "      <td>0.000000</td>\n",
       "      <td>0.0</td>\n",
       "      <td>0.0</td>\n",
       "    </tr>\n",
       "    <tr>\n",
       "      <th>60</th>\n",
       "      <td>2010-01-01</td>\n",
       "      <td>0.000000</td>\n",
       "      <td>0.0</td>\n",
       "      <td>33.110368</td>\n",
       "      <td>66.889632</td>\n",
       "      <td>0.0</td>\n",
       "      <td>0.0</td>\n",
       "    </tr>\n",
       "    <tr>\n",
       "      <th>59</th>\n",
       "      <td>2010-01-31</td>\n",
       "      <td>100.000000</td>\n",
       "      <td>0.0</td>\n",
       "      <td>0.000000</td>\n",
       "      <td>0.000000</td>\n",
       "      <td>0.0</td>\n",
       "      <td>0.0</td>\n",
       "    </tr>\n",
       "  </tbody>\n",
       "</table>\n",
       "</div>"
      ],
      "text/plain": [
       "        Month   Planktons  Clownfishes  Lionfishes  Swordfishes  Sharks  \\\n",
       "63 2009-01-06    1.980004          0.0   98.019996     0.000000     0.0   \n",
       "62 2009-10-03    0.000000          0.0    0.000000   100.000000     0.0   \n",
       "61 2009-11-02    0.000000          0.0  100.000000     0.000000     0.0   \n",
       "60 2010-01-01    0.000000          0.0   33.110368    66.889632     0.0   \n",
       "59 2010-01-31  100.000000          0.0    0.000000     0.000000     0.0   \n",
       "\n",
       "    Whales  \n",
       "63     0.0  \n",
       "62     0.0  \n",
       "61     0.0  \n",
       "60     0.0  \n",
       "59     0.0  "
      ]
     },
     "execution_count": 213,
     "metadata": {},
     "output_type": "execute_result"
    }
   ],
   "source": [
    "df_val_per_month = pd.read_csv('change_bins_values_per_month.csv')\n",
    "df_val_per_month.fillna(0, inplace=True)\n",
    "\n",
    "df_val_per_month.loc[:,\"_0_to_1\":\"More_10000\"] = df_val_per_month.loc[:,\"_0_to_1\":\"More_10000\"].div(df_val_per_month.sum(axis=1), axis=0) * 100\n",
    "df_val_per_month.columns = [\"Month\",\"Planktons\", \"Clownfishes\", \"Lionfishes\", \"Swordfishes\", \"Sharks\", \"Whales\"]\n",
    "\n",
    "df_val_per_month = df_val_per_month.sort_values(by='Month')\n",
    "\n",
    "df_val_per_month.Month = pd.to_datetime(df_val_per_month.Month)\n",
    "df_val_per_month.head()"
   ]
  },
  {
   "cell_type": "code",
   "execution_count": 224,
   "metadata": {},
   "outputs": [
    {
     "data": {
      "text/plain": [
       "Planktons       1.980004\n",
       "Clownfishes     0.000000\n",
       "Lionfishes     98.019996\n",
       "Swordfishes     0.000000\n",
       "Sharks          0.000000\n",
       "Whales          0.000000\n",
       "Name: 2009-01-06 00:00:00, dtype: float64"
      ]
     },
     "execution_count": 224,
     "metadata": {},
     "output_type": "execute_result"
    }
   ],
   "source": [
    "#df_val_per_month = df_val_per_month.set_index(['Month'])\n",
    "\n",
    "df_val_per_month.loc['2009-01-06']"
   ]
  },
  {
   "cell_type": "code",
   "execution_count": 113,
   "metadata": {},
   "outputs": [],
   "source": [
    "df_ct_per_month = pd.read_csv('change_count_bins_per_month.csv')\n",
    "df_ct_per_month.fillna(0, inplace=True)\n",
    "df_ct_per_month.columns = [\"Month\", \"Planktons\", \"Clownfishes\",\n",
    "                            \"Lionfishes\", \"Swordfishes\", \"Sharks\", \"Whales\"]\n",
    "df_ct_per_month = df_ct_per_month.sort_values(by='Month')\n"
   ]
  },
  {
   "cell_type": "code",
   "execution_count": 118,
   "metadata": {},
   "outputs": [
    {
     "data": {
      "text/plain": [
       "<bound method Series.keys of Planktons      59675\n",
       "Clownfishes     2589\n",
       "Lionfishes       554\n",
       "Swordfishes      111\n",
       "Sharks            12\n",
       "Whales             2\n",
       "Name: 0, dtype: object>"
      ]
     },
     "execution_count": 118,
     "metadata": {},
     "output_type": "execute_result"
    }
   ],
   "source": [
    "df_ct_per_month.iloc[107]['Planktons':'Whales'].keys\n"
   ]
  },
  {
   "cell_type": "code",
   "execution_count": 140,
   "metadata": {},
   "outputs": [
    {
     "data": {
      "text/plain": [
       "59675"
      ]
     },
     "execution_count": 140,
     "metadata": {},
     "output_type": "execute_result"
    }
   ],
   "source": [
    "df_ct_per_month.iloc[107]['Planktons':'Whales'].get('Planktons')"
   ]
  },
  {
   "cell_type": "code",
   "execution_count": 165,
   "metadata": {},
   "outputs": [
    {
     "data": {
      "text/plain": [
       "'July 2018'"
      ]
     },
     "execution_count": 165,
     "metadata": {},
     "output_type": "execute_result"
    }
   ],
   "source": [
    "df_val_per_month.Month[0].strftime('%B %Y')"
   ]
  },
  {
   "cell_type": "code",
   "execution_count": 169,
   "metadata": {},
   "outputs": [
    {
     "data": {
      "text/plain": [
       "Timestamp('2009-01-06 00:00:00')"
      ]
     },
     "execution_count": 169,
     "metadata": {},
     "output_type": "execute_result"
    }
   ],
   "source": [
    "df_val_per_month['Month'].min()"
   ]
  },
  {
   "cell_type": "code",
   "execution_count": 172,
   "metadata": {},
   "outputs": [
    {
     "data": {
      "text/plain": [
       "107    2009-01-06 00:00:00 UTC\n",
       "97     2010-08-29 00:00:00 UTC\n",
       "87     2011-06-25 00:00:00 UTC\n",
       "77     2012-04-20 00:00:00 UTC\n",
       "67     2013-02-14 00:00:00 UTC\n",
       "57     2013-12-11 00:00:00 UTC\n",
       "47     2014-10-07 00:00:00 UTC\n",
       "37     2015-08-03 00:00:00 UTC\n",
       "27     2016-05-29 00:00:00 UTC\n",
       "17     2017-03-25 00:00:00 UTC\n",
       "7      2018-01-19 00:00:00 UTC\n",
       "Name: Month, dtype: object"
      ]
     },
     "execution_count": 172,
     "metadata": {},
     "output_type": "execute_result"
    }
   ],
   "source": [
    "df_ct_per_month['Month'][0:107:10]"
   ]
  },
  {
   "cell_type": "code",
   "execution_count": 174,
   "metadata": {},
   "outputs": [
    {
     "data": {
      "text/plain": [
       "108"
      ]
     },
     "execution_count": 174,
     "metadata": {},
     "output_type": "execute_result"
    }
   ],
   "source": [
    "len(df_ct_per_month['Month'])"
   ]
  },
  {
   "cell_type": "code",
   "execution_count": 190,
   "metadata": {},
   "outputs": [],
   "source": [
    "epoch = datetime.datetime.utcfromtimestamp(0)\n",
    "def unix_time_millis(dt):\n",
    "    return (dt - epoch).total_seconds() * 1000.0\n",
    "marks={unix_time_millis(d): {'label': d.strftime('%B %Y')} for d in df_val_per_month['Month'][0:len(df_val_per_month):10]}\n",
    "        "
   ]
  },
  {
   "cell_type": "code",
   "execution_count": 191,
   "metadata": {},
   "outputs": [
    {
     "data": {
      "text/plain": [
       "{1231200000000.0: {'label': 'January 2009'},\n",
       " 1283040000000.0: {'label': 'August 2010'},\n",
       " 1308960000000.0: {'label': 'June 2011'},\n",
       " 1334880000000.0: {'label': 'April 2012'},\n",
       " 1360800000000.0: {'label': 'February 2013'},\n",
       " 1386720000000.0: {'label': 'December 2013'},\n",
       " 1412640000000.0: {'label': 'October 2014'},\n",
       " 1438560000000.0: {'label': 'August 2015'},\n",
       " 1464480000000.0: {'label': 'May 2016'},\n",
       " 1490400000000.0: {'label': 'March 2017'},\n",
       " 1516320000000.0: {'label': 'January 2018'}}"
      ]
     },
     "execution_count": 191,
     "metadata": {},
     "output_type": "execute_result"
    }
   ],
   "source": [
    "marks"
   ]
  },
  {
   "cell_type": "code",
   "execution_count": null,
   "metadata": {
    "collapsed": true
   },
   "outputs": [],
   "source": []
  }
 ],
 "metadata": {
  "kernelspec": {
   "display_name": "Python 3",
   "language": "python",
   "name": "python3"
  },
  "language_info": {
   "codemirror_mode": {
    "name": "ipython",
    "version": 3
   },
   "file_extension": ".py",
   "mimetype": "text/x-python",
   "name": "python",
   "nbconvert_exporter": "python",
   "pygments_lexer": "ipython3",
   "version": "3.6.3"
  }
 },
 "nbformat": 4,
 "nbformat_minor": 2
}
